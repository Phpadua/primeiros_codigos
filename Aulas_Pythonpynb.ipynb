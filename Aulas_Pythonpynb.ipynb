{
  "cells": [
    {
      "cell_type": "markdown",
      "metadata": {
        "id": "view-in-github",
        "colab_type": "text"
      },
      "source": [
        "<a href=\"https://colab.research.google.com/github/Phpadua/primeiros_codigos/blob/main/Aulas_Pythonpynb.ipynb\" target=\"_parent\"><img src=\"https://colab.research.google.com/assets/colab-badge.svg\" alt=\"Open In Colab\"/></a>"
      ]
    },
    {
      "cell_type": "code",
      "execution_count": null,
      "metadata": {
        "id": "dlKP8zbqCdyV"
      },
      "outputs": [],
      "source": [
        "peso = input ('Qual é seu peso?')\n",
        "idade = input ('Qual é sua idade?')\n",
        "nome = input ('Qual é seu nome?')\n",
        "\n",
        "print ('Meu nome é', nome, 'tenho' , idade, 'anos',  'e peso',  peso, 'kilos' )\n",
        "\n"
      ]
    },
    {
      "cell_type": "code",
      "execution_count": null,
      "metadata": {
        "id": "oEwaOe-SnoVP"
      },
      "outputs": [],
      "source": [
        "# Desafio 1\n",
        "\n",
        "nome = input ('Qual é seu nome?')\n",
        "\n",
        "print('Seja bem vindo ao primeiro script criado pelo Pedro,', nome, \", estamos muito contentes de ter você aqui!!!\")\n",
        "\n",
        "serie = input ('Qual é sua série preferida?')\n",
        "\n",
        "print ('Que legal! A série', serie, 'é realmente incrivel!')\n",
        "\n",
        "hobbie = input ('Me fale quais são seus hobiies?')\n",
        "\n",
        "print ('Quer dizer que você gosta de', hobbie,'?', 'Que demais!!')"
      ]
    },
    {
      "cell_type": "code",
      "execution_count": null,
      "metadata": {
        "id": "cCpkqxrm2TMw"
      },
      "outputs": [],
      "source": [
        "# Desafio 2\n",
        "\n",
        "nome = input ('Qual é seu nome?')\n",
        "Dia = input ('Insira seu dia de Nascimento')\n",
        "Mes = input ('Insira seu mes de Nascimento')\n",
        "Ano = input ('Insira seu ano de nascimento')\n",
        "\n",
        "\n",
        "print('Hello, my name is', nome, 'I was born on the', Dia, Mes, Ano)"
      ]
    },
    {
      "cell_type": "code",
      "execution_count": null,
      "metadata": {
        "id": "JYS0Fe18622T"
      },
      "outputs": [],
      "source": [
        "\n",
        "# Desafio 3 - Aula 05/06\n",
        "\n",
        "\n",
        "# int = númeor inteiro\n",
        "# float = Números reais\n",
        "# bool = True or False\n",
        "# str = texto \"entre aspas\"\n",
        "\n",
        "\n",
        "Nume1 = int( input ('insira um número'))\n",
        "Nume2 = int( input ('insira um número'))\n",
        "soma = Nume1 + Nume2\n",
        "\n",
        "print (f'o resultado da soma entre {Nume1} e {Nume2} é igual a {soma}')\n"
      ]
    },
    {
      "cell_type": "code",
      "source": [
        "# Desafio 4 - aula 06\n",
        "\n",
        "n = input('Digite um valor')\n",
        "\n",
        "print(type(n))\n",
        "\n",
        "print(n.isspace())\n",
        "\n",
        "print(n.isupper())\n",
        "\n",
        "print(n.isalnum())\n",
        "\n",
        "print(n.isalpha())\n",
        "\n",
        "print(n.isnumeric())"
      ],
      "metadata": {
        "id": "AnAjM0QbyOXC"
      },
      "execution_count": null,
      "outputs": []
    },
    {
      "cell_type": "code",
      "source": [
        "from re import M\n",
        "# Aula 07\n",
        "\n",
        "# ** = Potência\n",
        "# // = Divisão inteira\n",
        "# % = Módulo (Resto da divisão)\n",
        "\n",
        "#ordem de precedência\n",
        "# 1- ()\n",
        "# 2- ** ou pow(x,y)\n",
        "# 3- * / // % (Fazer quem aparecer primeiro)\n",
        "# 4- + -\n",
        "# Raiz = **(1/2) para calculo de raiz quadrada, cúbica etc... basta subsitituir o numerador da fração.\n",
        "\n",
        "5+3*2\n",
        "3*5+4**2\n",
        "3*(5+4)**2\n",
        "5**3\n",
        "19//2\n",
        "19%2\n",
        "19/2\n",
        "999**999\n",
        "pow(4,6)\n",
        "25**(1/4)\n",
        "'?'*100\n",
        "\n",
        "\n",
        "Nome = input('Qual é o seu nome?')\n",
        "print(f'Prazer em te conhecer {Nome:^20}!')\n",
        "\n",
        "N1 = int(input('Um valor:'))\n",
        "N2 = int (input('Outro valor'))\n",
        "s = N1+N2\n",
        "m = N1*N2\n",
        "d = N1/N2\n",
        "di = N1//N2\n",
        "e = N1**N2\n",
        "\n",
        "print(f'A soma é {s}, o produto é {m}, e a divisão é {d}.', end=' >>> ')\n",
        "print(f'Divisão inteira é {di}, e a potência é {e}.')\n"
      ],
      "metadata": {
        "id": "SDy_oFYna-x4"
      },
      "execution_count": null,
      "outputs": []
    },
    {
      "cell_type": "code",
      "source": [
        "# Desafio 5 - Aula 7\n",
        "\n",
        "N = int(input('insira um número'))\n",
        "\n",
        "\n",
        "print(f'O antecessor do número {N} é o número {N-1}, já seu sucessor é o número {N+1}')"
      ],
      "metadata": {
        "colab": {
          "base_uri": "https://localhost:8080/"
        },
        "id": "HFit313Rnpg6",
        "outputId": "7ec00e6b-a6f0-4802-df7e-1cae7dfc1599"
      },
      "execution_count": 62,
      "outputs": [
        {
          "output_type": "stream",
          "name": "stdout",
          "text": [
            "insira um número1000\n",
            "O antecessor do número 1000 é o número 999, já seu sucessor é o número 1001\n"
          ]
        }
      ]
    },
    {
      "cell_type": "code",
      "source": [
        "# Desafio 6 - Aula 7\n",
        "\n",
        "N = int(input('Insira um número'))\n",
        "\n",
        "print(f'O dobro de {N} é {N*2}, o triplo é {N*3} e sua raiz quadrada é {N**(1/2)}.')"
      ],
      "metadata": {
        "id": "1NqlOgDAn4Vg"
      },
      "execution_count": null,
      "outputs": []
    },
    {
      "cell_type": "code",
      "source": [
        "# Desafio 7 - Aula 7\n",
        "nota1 = int(input('Insira sua nota1'))\n",
        "nota2 = int(input('insira sua nota2'))\n",
        "mp = nota1+nota2\n",
        "mf = mp/2\n",
        "\n",
        "print(f'Sua média é:{mf}')"
      ],
      "metadata": {
        "colab": {
          "base_uri": "https://localhost:8080/"
        },
        "id": "z58SUqhLonED",
        "outputId": "7981a7f2-af60-4e2d-bd9f-afcef74a3c4d"
      },
      "execution_count": 66,
      "outputs": [
        {
          "output_type": "stream",
          "name": "stdout",
          "text": [
            "Insira sua nota110\n",
            "insira sua nota26\n",
            "Sua média é:8.0\n"
          ]
        }
      ]
    },
    {
      "cell_type": "code",
      "source": [
        "# Desafio 8 - Aula 7\n",
        "\n",
        "metro = float(input('Insisra um número'))\n",
        "\n",
        "mi = metro*1000\n",
        "ce = metro*100\n",
        "\n",
        "print(f'{metro} metros equivalem a {mi} milimetros e {ce} centimetros.')\n"
      ],
      "metadata": {
        "id": "UYwkI01t3EKB"
      },
      "execution_count": null,
      "outputs": []
    },
    {
      "cell_type": "code",
      "source": [
        "# Desafio 8 - Aula 7\n",
        "\n",
        "Nint = int(input('insira um número:'))\n",
        "\n",
        "t1= Nint*1\n",
        "t2= Nint*2\n",
        "t3= Nint*3\n",
        "t4= Nint*4\n",
        "t5= Nint*5\n",
        "t6= Nint*6\n",
        "t7= Nint*7\n",
        "t8= Nint*8\n",
        "t9= Nint*9\n",
        "\n",
        "print(f'{Nint}x1 = {t1}\\n{Nint}x2 = {t2}\\n{Nint}x3 = {t3}\\n{Nint}x4 = {t4}\\n{Nint}x5 = {t5}\\n{Nint}x6 = {t6}\\n{Nint}x7 = {t7}\\n{Nint}x8 = {t8}\\n{Nint}x9 = {t9}')\n"
      ],
      "metadata": {
        "colab": {
          "base_uri": "https://localhost:8080/"
        },
        "id": "X04D7B924dXt",
        "outputId": "54ed11c8-c7f8-4ab4-cb69-6948e2ffc96c"
      },
      "execution_count": 91,
      "outputs": [
        {
          "output_type": "stream",
          "name": "stdout",
          "text": [
            "insira um número:6\n",
            "6x1 = 6\n",
            "6x2 = 12\n",
            "6x3 = 18\n",
            "6x4 = 24\n",
            "6x5 = 30\n",
            "6x6 = 36\n",
            "6x7 = 42\n",
            "6x8 = 48\n",
            "6x9 = 54\n"
          ]
        }
      ]
    },
    {
      "cell_type": "code",
      "source": [
        "# Desafio 10 - Aula 7\n",
        "\n",
        "Vd = float(input('Insira o valor em dolar:US$'))\n",
        "\n",
        "Vr = Vd*4.93\n",
        "\n",
        "print(f'US$ {Vd} equivalem a: R${Vr}')"
      ],
      "metadata": {
        "colab": {
          "base_uri": "https://localhost:8080/"
        },
        "id": "2_1f6CeT8Ok4",
        "outputId": "8f6c5518-5606-4aaa-b4b2-b87b12efd315"
      },
      "execution_count": 104,
      "outputs": [
        {
          "output_type": "stream",
          "name": "stdout",
          "text": [
            "Insira o valor em dolar:US$5\n",
            "US$ 5.0 equivalem a: R$24.65\n"
          ]
        }
      ]
    },
    {
      "cell_type": "code",
      "source": [
        "# Desafio 11 - Aula 7\n",
        "\n",
        "lar = float(input('Insira a largura da parede em metros'))\n",
        "alt = float(input('Insira a altura da parede e metros'))\n",
        "Ar = lar**alt\n",
        "\n",
        "qt = Ar/2\n",
        "\n",
        "print(f'A area de sua parede é de {Ar} metros quadrados, nesse caso será necessário {qt} litros de tinta para pinta-lá.')\n",
        "\n"
      ],
      "metadata": {
        "colab": {
          "base_uri": "https://localhost:8080/"
        },
        "id": "4eqaiHrC-K7o",
        "outputId": "4a4b029c-9c73-4107-a777-25edb5b32da4"
      },
      "execution_count": 111,
      "outputs": [
        {
          "output_type": "stream",
          "name": "stdout",
          "text": [
            "Insira a largura da parede em metros2\n",
            "Insira a altura da parede e metros2\n",
            "A area de sua parede é de 4.0 metros quadrados, nesse caso será necessário 2.0 litros de tinta para pinta-lá.\n"
          ]
        }
      ]
    },
    {
      "cell_type": "code",
      "source": [
        "# Desafio 12 - Aula 7\n",
        "\n",
        "preco = float(input('Insira o preço do produto'))\n",
        "\n",
        "vd = preco*0.05\n",
        "vcdf = preco-vd\n",
        "\n",
        "print(f'O valor com desconto é:R${vcdf}')"
      ],
      "metadata": {
        "colab": {
          "base_uri": "https://localhost:8080/"
        },
        "id": "q6favLmUBLrG",
        "outputId": "3d298db3-74a0-4ca3-a7a6-9ea8415a6493"
      },
      "execution_count": 116,
      "outputs": [
        {
          "output_type": "stream",
          "name": "stdout",
          "text": [
            "Insira o preço do produto100\n",
            "O valor com desconto é:R$95.0\n"
          ]
        }
      ]
    },
    {
      "cell_type": "code",
      "source": [
        "\n",
        "# Desafio 13 - Aula 7\n",
        "\n",
        "sal = float(input('Insira o valor do seu salário'))\n",
        "\n",
        "vsp = sal*0.15\n",
        "vsf = sal+vsp\n",
        "\n",
        "print(f'O valor de seu salário com 15% de aumento é de: R${vsf}')"
      ],
      "metadata": {
        "colab": {
          "base_uri": "https://localhost:8080/"
        },
        "id": "xAnF_KU9D8w4",
        "outputId": "b4cb6a27-af9d-4f2b-9996-96c791179f8d"
      },
      "execution_count": 118,
      "outputs": [
        {
          "output_type": "stream",
          "name": "stdout",
          "text": [
            "Insira o valor do seu salário5000\n",
            "O valor de seu salário com 15% de aumento é de: R$5750.0\n"
          ]
        }
      ]
    }
  ],
  "metadata": {
    "colab": {
      "provenance": [],
      "authorship_tag": "ABX9TyNPvGQTrVOcoj0CB3yqo4P6",
      "include_colab_link": true
    },
    "kernelspec": {
      "display_name": "Python 3",
      "name": "python3"
    },
    "language_info": {
      "name": "python"
    }
  },
  "nbformat": 4,
  "nbformat_minor": 0
}